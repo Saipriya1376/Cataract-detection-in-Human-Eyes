{
 "cells": [
  {
   "cell_type": "markdown",
   "id": "ed362fbf",
   "metadata": {},
   "source": [
    "# installation of required libraries"
   ]
  },
  {
   "cell_type": "code",
   "execution_count": 3,
   "id": "648522cd",
   "metadata": {},
   "outputs": [
    {
     "name": "stdout",
     "output_type": "stream",
     "text": [
      "Requirement already satisfied: keras in c:\\users\\saipriya\\anaconda3\\lib\\site-packages (2.10.0)\n",
      "Requirement already satisfied: tensorflow in c:\\users\\saipriya\\anaconda3\\lib\\site-packages (2.10.0)\n",
      "Requirement already satisfied: keras-preprocessing>=1.1.1 in c:\\users\\saipriya\\anaconda3\\lib\\site-packages (from tensorflow) (1.1.2)\n",
      "Requirement already satisfied: setuptools in c:\\users\\saipriya\\anaconda3\\lib\\site-packages (from tensorflow) (61.2.0)\n",
      "Requirement already satisfied: six>=1.12.0 in c:\\users\\saipriya\\anaconda3\\lib\\site-packages (from tensorflow) (1.16.0)\n",
      "Requirement already satisfied: tensorflow-io-gcs-filesystem>=0.23.1 in c:\\users\\saipriya\\anaconda3\\lib\\site-packages (from tensorflow) (0.27.0)\n",
      "Requirement already satisfied: astunparse>=1.6.0 in c:\\users\\saipriya\\anaconda3\\lib\\site-packages (from tensorflow) (1.6.3)\n",
      "Requirement already satisfied: keras<2.11,>=2.10.0 in c:\\users\\saipriya\\anaconda3\\lib\\site-packages (from tensorflow) (2.10.0)\n",
      "Requirement already satisfied: packaging in c:\\users\\saipriya\\anaconda3\\lib\\site-packages (from tensorflow) (21.3)\n",
      "Requirement already satisfied: termcolor>=1.1.0 in c:\\users\\saipriya\\anaconda3\\lib\\site-packages (from tensorflow) (2.1.0)\n",
      "Requirement already satisfied: flatbuffers>=2.0 in c:\\users\\saipriya\\anaconda3\\lib\\site-packages (from tensorflow) (22.10.26)\n",
      "Requirement already satisfied: h5py>=2.9.0 in c:\\users\\saipriya\\anaconda3\\lib\\site-packages (from tensorflow) (3.6.0)\n",
      "Requirement already satisfied: libclang>=13.0.0 in c:\\users\\saipriya\\anaconda3\\lib\\site-packages (from tensorflow) (14.0.6)\n",
      "Requirement already satisfied: opt-einsum>=2.3.2 in c:\\users\\saipriya\\anaconda3\\lib\\site-packages (from tensorflow) (3.3.0)\n",
      "Requirement already satisfied: tensorflow-estimator<2.11,>=2.10.0 in c:\\users\\saipriya\\anaconda3\\lib\\site-packages (from tensorflow) (2.10.0)\n",
      "Requirement already satisfied: numpy>=1.20 in c:\\users\\saipriya\\anaconda3\\lib\\site-packages (from tensorflow) (1.21.5)\n",
      "Requirement already satisfied: absl-py>=1.0.0 in c:\\users\\saipriya\\anaconda3\\lib\\site-packages (from tensorflow) (1.3.0)\n",
      "Requirement already satisfied: wrapt>=1.11.0 in c:\\users\\saipriya\\anaconda3\\lib\\site-packages (from tensorflow) (1.12.1)\n",
      "Requirement already satisfied: grpcio<2.0,>=1.24.3 in c:\\users\\saipriya\\anaconda3\\lib\\site-packages (from tensorflow) (1.42.0)\n",
      "Requirement already satisfied: tensorboard<2.11,>=2.10 in c:\\users\\saipriya\\anaconda3\\lib\\site-packages (from tensorflow) (2.10.1)\n",
      "Requirement already satisfied: gast<=0.4.0,>=0.2.1 in c:\\users\\saipriya\\anaconda3\\lib\\site-packages (from tensorflow) (0.4.0)\n",
      "Requirement already satisfied: google-pasta>=0.1.1 in c:\\users\\saipriya\\anaconda3\\lib\\site-packages (from tensorflow) (0.2.0)\n",
      "Requirement already satisfied: typing-extensions>=3.6.6 in c:\\users\\saipriya\\anaconda3\\lib\\site-packages (from tensorflow) (4.1.1)\n",
      "Requirement already satisfied: protobuf<3.20,>=3.9.2 in c:\\users\\saipriya\\anaconda3\\lib\\site-packages (from tensorflow) (3.19.1)\n",
      "Requirement already satisfied: wheel<1.0,>=0.23.0 in c:\\users\\saipriya\\anaconda3\\lib\\site-packages (from astunparse>=1.6.0->tensorflow) (0.37.1)\n",
      "Requirement already satisfied: tensorboard-plugin-wit>=1.6.0 in c:\\users\\saipriya\\anaconda3\\lib\\site-packages (from tensorboard<2.11,>=2.10->tensorflow) (1.8.1)\n",
      "Requirement already satisfied: requests<3,>=2.21.0 in c:\\users\\saipriya\\anaconda3\\lib\\site-packages (from tensorboard<2.11,>=2.10->tensorflow) (2.27.1)\n",
      "Requirement already satisfied: markdown>=2.6.8 in c:\\users\\saipriya\\anaconda3\\lib\\site-packages (from tensorboard<2.11,>=2.10->tensorflow) (3.3.4)\n",
      "Requirement already satisfied: werkzeug>=1.0.1 in c:\\users\\saipriya\\anaconda3\\lib\\site-packages (from tensorboard<2.11,>=2.10->tensorflow) (2.0.3)\n",
      "Requirement already satisfied: tensorboard-data-server<0.7.0,>=0.6.0 in c:\\users\\saipriya\\anaconda3\\lib\\site-packages (from tensorboard<2.11,>=2.10->tensorflow) (0.6.1)\n",
      "Requirement already satisfied: google-auth-oauthlib<0.5,>=0.4.1 in c:\\users\\saipriya\\anaconda3\\lib\\site-packages (from tensorboard<2.11,>=2.10->tensorflow) (0.4.6)\n",
      "Requirement already satisfied: google-auth<3,>=1.6.3 in c:\\users\\saipriya\\anaconda3\\lib\\site-packages (from tensorboard<2.11,>=2.10->tensorflow) (1.33.0)\n",
      "Requirement already satisfied: pyasn1-modules>=0.2.1 in c:\\users\\saipriya\\anaconda3\\lib\\site-packages (from google-auth<3,>=1.6.3->tensorboard<2.11,>=2.10->tensorflow) (0.2.8)\n",
      "Requirement already satisfied: cachetools<5.0,>=2.0.0 in c:\\users\\saipriya\\anaconda3\\lib\\site-packages (from google-auth<3,>=1.6.3->tensorboard<2.11,>=2.10->tensorflow) (4.2.2)\n",
      "Requirement already satisfied: rsa<5,>=3.1.4 in c:\\users\\saipriya\\anaconda3\\lib\\site-packages (from google-auth<3,>=1.6.3->tensorboard<2.11,>=2.10->tensorflow) (4.7.2)\n",
      "Requirement already satisfied: requests-oauthlib>=0.7.0 in c:\\users\\saipriya\\anaconda3\\lib\\site-packages (from google-auth-oauthlib<0.5,>=0.4.1->tensorboard<2.11,>=2.10->tensorflow) (1.3.1)\n",
      "Requirement already satisfied: pyasn1<0.5.0,>=0.4.6 in c:\\users\\saipriya\\anaconda3\\lib\\site-packages (from pyasn1-modules>=0.2.1->google-auth<3,>=1.6.3->tensorboard<2.11,>=2.10->tensorflow) (0.4.8)\n",
      "Requirement already satisfied: idna<4,>=2.5 in c:\\users\\saipriya\\anaconda3\\lib\\site-packages (from requests<3,>=2.21.0->tensorboard<2.11,>=2.10->tensorflow) (3.3)\n",
      "Requirement already satisfied: urllib3<1.27,>=1.21.1 in c:\\users\\saipriya\\anaconda3\\lib\\site-packages (from requests<3,>=2.21.0->tensorboard<2.11,>=2.10->tensorflow) (1.26.9)\n",
      "Requirement already satisfied: charset-normalizer~=2.0.0 in c:\\users\\saipriya\\anaconda3\\lib\\site-packages (from requests<3,>=2.21.0->tensorboard<2.11,>=2.10->tensorflow) (2.0.4)\n",
      "Requirement already satisfied: certifi>=2017.4.17 in c:\\users\\saipriya\\anaconda3\\lib\\site-packages (from requests<3,>=2.21.0->tensorboard<2.11,>=2.10->tensorflow) (2021.10.8)\n",
      "Requirement already satisfied: oauthlib>=3.0.0 in c:\\users\\saipriya\\anaconda3\\lib\\site-packages (from requests-oauthlib>=0.7.0->google-auth-oauthlib<0.5,>=0.4.1->tensorboard<2.11,>=2.10->tensorflow) (3.2.2)\n",
      "Requirement already satisfied: pyparsing!=3.0.5,>=2.0.2 in c:\\users\\saipriya\\anaconda3\\lib\\site-packages (from packaging->tensorflow) (3.0.4)\n"
     ]
    }
   ],
   "source": [
    "!pip install keras\n",
    "!pip install tensorflow"
   ]
  },
  {
   "cell_type": "code",
   "execution_count": 4,
   "id": "32f05a64",
   "metadata": {},
   "outputs": [],
   "source": [
    "import pandas as pd\n",
    "from scikitplot.metrics import plot_confusion_matrix as plt_con_mat\n",
    "from keras.utils.np_utils import to_categorical\n",
    "from sklearn.model_selection import train_test_split\n",
    "from tensorflow.keras.applications.vgg19 import VGG19\n",
    "from tensorflow.keras.models import Model, Sequential\n",
    "from tensorflow.keras.layers import Conv2D, Dense, Dropout, MaxPooling2D, Flatten\n",
    "from keras.utils import plot_model\n",
    "import os\n",
    "import numpy as np\n",
    "import cv2\n",
    "import matplotlib.pyplot as plt"
   ]
  },
  {
   "cell_type": "code",
   "execution_count": 5,
   "id": "f1cb5079",
   "metadata": {},
   "outputs": [],
   "source": [
    "dir = 'C:\\\\Users\\\\Saipriya'\n",
    "categories = ['cataract_aug','normal_aug']"
   ]
  },
  {
   "cell_type": "markdown",
   "id": "e5f00e35",
   "metadata": {},
   "source": [
    "# Data Augmentation"
   ]
  },
  {
   "cell_type": "code",
   "execution_count": null,
   "id": "f54b3128",
   "metadata": {},
   "outputs": [],
   "source": [
    "# Define the path to the folder containing the original images\n",
    "original_path = \"C:\\\\Users\\\\Saipriya\\\\normal\"\n",
    "\n",
    "# Define the path to the folder where the augmented images will be saved\n",
    "augmented_path = \"C:\\\\Users\\\\Saipriya\\\\normal_aug\\\\\"\n",
    "\n",
    "# Define the list of augmentation techniques to use\n",
    "augmentations = ['flip_horizontal', 'flip_vertical', 'rotate', 'scale', 'crop', 'translate']\n",
    "\n",
    "# Loop over all the original images in the folder\n",
    "for file in os.listdir(original_path):\n",
    "    img = cv2.imread(os.path.join(original_path, file))\n",
    "    for aug in augmentations:\n",
    "        if aug == 'flip_horizontal':\n",
    "            img_aug = cv2.flip(img, 1)\n",
    "            cv2.imwrite(augmented_path + file.split('.')[0] + '_flip_horizontal.jpg', img_aug)\n",
    "            \n",
    "        elif aug == 'flip_vertical':\n",
    "            img_aug = cv2.flip(img, 0)\n",
    "            cv2.imwrite(augmented_path + file.split('.')[0] + '_flip_vertical.jpg', img_aug)\n",
    "\n",
    "        elif aug == 'rotate':\n",
    "            rows, cols, _ = img.shape\n",
    "            M = cv2.getRotationMatrix2D((cols/2, rows/2), 45, 1)\n",
    "            img_aug = cv2.warpAffine(img, M, (cols, rows))\n",
    "            cv2.imwrite(augmented_path + file.split('.')[0] + '_rotate.jpg', img_aug)\n",
    "\n",
    "        elif aug == 'scale':\n",
    "            img_aug = cv2.resize(img, None, fx=0.5, fy=0.5, interpolation=cv2.INTER_LINEAR)\n",
    "            cv2.imwrite(augmented_path + file.split('.')[0] + '_scale.jpg', img_aug)\n",
    "\n",
    "        elif aug == 'crop':\n",
    "            rows, cols, _ = img.shape\n",
    "            x1 = int(cols/4)\n",
    "            x2 = int(cols/4 * 3)\n",
    "            y1 = int(rows/4)\n",
    "            y2 = int(rows/4 * 3)\n",
    "            img_aug = img[y1:y2, x1:x2]\n",
    "            cv2.imwrite(augmented_path + file.split('.')[0] + '_crop.jpg', img_aug)\n",
    "\n",
    "        elif aug == 'translate':\n",
    "            rows, cols, _ = img.shape\n",
    "            M = np.float32([[1, 0, 100], [0, 1, 50]])\n",
    "            img_aug = cv2.warpAffine(img, M, (cols, rows))\n",
    "            cv2.imwrite(augmented_path + file.split('.')[0] + '_translate.jpg', img_aug)"
   ]
  },
  {
   "cell_type": "markdown",
   "id": "9681df41",
   "metadata": {},
   "source": [
    "# VGG19"
   ]
  },
  {
   "cell_type": "code",
   "execution_count": 6,
   "id": "53f360ba",
   "metadata": {},
   "outputs": [],
   "source": [
    "data=[]\n",
    "labels = []\n",
    "for category in categories:\n",
    "    label = categories.index(category)\n",
    "    path = os.path.join(dir,category)\n",
    "    for img in os.listdir(path):\n",
    "        imgpath = os.path.join(path,img)\n",
    "        cat_img = cv2.imread(imgpath)\n",
    "        #print(np.shape(cat_img))\n",
    "        try:\n",
    "            cat_img = cv2.resize(cat_img,(224,224))\n",
    "            #image = np.array(cat_img).flatten()\n",
    "        except Exception as e:\n",
    "            continue\n",
    "        data.append(cat_img)\n",
    "        labels.append(label)"
   ]
  },
  {
   "cell_type": "code",
   "execution_count": 7,
   "id": "72273b53",
   "metadata": {},
   "outputs": [
    {
     "name": "stdout",
     "output_type": "stream",
     "text": [
      "2800\n",
      "(2800, 224, 224, 3)\n"
     ]
    }
   ],
   "source": [
    "print(np.size(labels))\n",
    "print(np.shape(data))"
   ]
  },
  {
   "cell_type": "code",
   "execution_count": 8,
   "id": "321390b8",
   "metadata": {},
   "outputs": [],
   "source": [
    "x_data = np.array(data)\n",
    "y_data = np.array(labels)\n",
    "y_data = np.expand_dims(y_data, axis = -1)\n",
    "y_data = to_categorical(y_data)\n"
   ]
  },
  {
   "cell_type": "code",
   "execution_count": 23,
   "id": "6b15bc47",
   "metadata": {},
   "outputs": [
    {
     "data": {
      "text/plain": [
       "array([1., 0.], dtype=float32)"
      ]
     },
     "execution_count": 23,
     "metadata": {},
     "output_type": "execute_result"
    }
   ],
   "source": [
    "y_data[0]"
   ]
  },
  {
   "cell_type": "code",
   "execution_count": 9,
   "id": "e76a671d",
   "metadata": {},
   "outputs": [],
   "source": [
    "ROW = 224\n",
    "COL = 224"
   ]
  },
  {
   "cell_type": "code",
   "execution_count": 10,
   "id": "77a2b3cd",
   "metadata": {},
   "outputs": [],
   "source": [
    "vgg = VGG19(weights = \"imagenet\", include_top = False, input_shape=(ROW, COL, 3))\n",
    "for layer in vgg.layers:\n",
    "    layer.trainable = False"
   ]
  },
  {
   "cell_type": "code",
   "execution_count": 11,
   "id": "c09872c8",
   "metadata": {},
   "outputs": [
    {
     "name": "stdout",
     "output_type": "stream",
     "text": [
      "Model: \"sequential\"\n",
      "_________________________________________________________________\n",
      " Layer (type)                Output Shape              Param #   \n",
      "=================================================================\n",
      " vgg19 (Functional)          (None, 7, 7, 512)         20024384  \n",
      "                                                                 \n",
      " flatten (Flatten)           (None, 25088)             0         \n",
      "                                                                 \n",
      " dense (Dense)               (None, 64)                1605696   \n",
      "                                                                 \n",
      " dense_1 (Dense)             (None, 2)                 130       \n",
      "                                                                 \n",
      "=================================================================\n",
      "Total params: 21,630,210\n",
      "Trainable params: 1,605,826\n",
      "Non-trainable params: 20,024,384\n",
      "_________________________________________________________________\n"
     ]
    }
   ],
   "source": [
    "model = Sequential()\n",
    "model.add(vgg)\n",
    "model.add(Flatten())\n",
    "model.add(Dense(64, activation = 'relu'))\n",
    "model.add(Dense(2,activation = \"softmax\"))\n",
    "\n",
    "model.summary()"
   ]
  },
  {
   "cell_type": "code",
   "execution_count": 12,
   "id": "2e56d812",
   "metadata": {},
   "outputs": [
    {
     "name": "stdout",
     "output_type": "stream",
     "text": [
      "(2240, 224, 224, 3) (2240, 2)\n",
      "(560, 224, 224, 3) (560, 2)\n"
     ]
    }
   ],
   "source": [
    "X_train, X_test, y_train, y_test = train_test_split(x_data, y_data, test_size=0.2, shuffle = True, random_state = 1)\n",
    "\n",
    "print(X_train.shape, y_train.shape)\n",
    "print(X_test.shape, y_test.shape)"
   ]
  },
  {
   "cell_type": "code",
   "execution_count": 13,
   "id": "49df5075",
   "metadata": {},
   "outputs": [
    {
     "name": "stdout",
     "output_type": "stream",
     "text": [
      "Epoch 1/15\n",
      "90/90 [==============================] - 729s 8s/step - loss: 1.7504 - accuracy: 0.8469 - precision: 0.8469 - recall: 0.8469 - val_loss: 0.3005 - val_accuracy: 0.8643 - val_precision: 0.8643 - val_recall: 0.8643\n",
      "Epoch 2/15\n",
      "90/90 [==============================] - 695s 8s/step - loss: 0.2165 - accuracy: 0.9103 - precision: 0.9103 - recall: 0.9103 - val_loss: 0.3160 - val_accuracy: 0.9018 - val_precision: 0.9018 - val_recall: 0.9018\n",
      "Epoch 3/15\n",
      "90/90 [==============================] - 692s 8s/step - loss: 0.1764 - accuracy: 0.9281 - precision: 0.9281 - recall: 0.9281 - val_loss: 0.2513 - val_accuracy: 0.9250 - val_precision: 0.9250 - val_recall: 0.9250\n",
      "Epoch 4/15\n",
      "90/90 [==============================] - 709s 8s/step - loss: 0.1434 - accuracy: 0.9366 - precision: 0.9366 - recall: 0.9366 - val_loss: 0.2268 - val_accuracy: 0.9214 - val_precision: 0.9214 - val_recall: 0.9214\n",
      "Epoch 5/15\n",
      "90/90 [==============================] - 689s 8s/step - loss: 0.1130 - accuracy: 0.9571 - precision: 0.9571 - recall: 0.9571 - val_loss: 0.2690 - val_accuracy: 0.9018 - val_precision: 0.9018 - val_recall: 0.9018\n",
      "Epoch 6/15\n",
      "90/90 [==============================] - 355s 4s/step - loss: 0.1046 - accuracy: 0.9616 - precision: 0.9616 - recall: 0.9616 - val_loss: 0.2550 - val_accuracy: 0.9268 - val_precision: 0.9268 - val_recall: 0.9268\n",
      "Epoch 7/15\n",
      "90/90 [==============================] - 345s 4s/step - loss: 0.0733 - accuracy: 0.9723 - precision: 0.9723 - recall: 0.9723 - val_loss: 0.2532 - val_accuracy: 0.9304 - val_precision: 0.9304 - val_recall: 0.9304\n",
      "Epoch 8/15\n",
      "90/90 [==============================] - 407s 5s/step - loss: 0.0773 - accuracy: 0.9692 - precision: 0.9692 - recall: 0.9692 - val_loss: 0.2316 - val_accuracy: 0.9304 - val_precision: 0.9304 - val_recall: 0.9304\n",
      "Epoch 9/15\n",
      "90/90 [==============================] - 337s 4s/step - loss: 0.0496 - accuracy: 0.9799 - precision: 0.9799 - recall: 0.9799 - val_loss: 0.2290 - val_accuracy: 0.9286 - val_precision: 0.9286 - val_recall: 0.9286\n",
      "Epoch 10/15\n",
      "90/90 [==============================] - 342s 4s/step - loss: 0.0490 - accuracy: 0.9808 - precision: 0.9808 - recall: 0.9808 - val_loss: 0.2397 - val_accuracy: 0.9232 - val_precision: 0.9232 - val_recall: 0.9232\n",
      "Epoch 11/15\n",
      "90/90 [==============================] - 341s 4s/step - loss: 0.0446 - accuracy: 0.9812 - precision: 0.9812 - recall: 0.9812 - val_loss: 0.2486 - val_accuracy: 0.9446 - val_precision: 0.9446 - val_recall: 0.9446\n",
      "Epoch 12/15\n",
      "90/90 [==============================] - 331s 4s/step - loss: 0.0423 - accuracy: 0.9839 - precision: 0.9839 - recall: 0.9839 - val_loss: 0.2412 - val_accuracy: 0.9518 - val_precision: 0.9518 - val_recall: 0.9518\n",
      "Epoch 13/15\n",
      "90/90 [==============================] - 339s 4s/step - loss: 0.0375 - accuracy: 0.9835 - precision: 0.9835 - recall: 0.9835 - val_loss: 0.3413 - val_accuracy: 0.9393 - val_precision: 0.9393 - val_recall: 0.9393\n",
      "Epoch 14/15\n",
      "90/90 [==============================] - 337s 4s/step - loss: 0.0228 - accuracy: 0.9893 - precision: 0.9893 - recall: 0.9893 - val_loss: 0.2564 - val_accuracy: 0.9250 - val_precision: 0.9250 - val_recall: 0.9250\n",
      "Epoch 15/15\n",
      "90/90 [==============================] - 358s 4s/step - loss: 0.0342 - accuracy: 0.9835 - precision: 0.9835 - recall: 0.9835 - val_loss: 0.2296 - val_accuracy: 0.9411 - val_precision: 0.9411 - val_recall: 0.9411\n"
     ]
    }
   ],
   "source": [
    "model.compile(optimizer = 'adam', \n",
    "              loss = 'categorical_crossentropy', \n",
    "              metrics=['accuracy', 'Precision', 'Recall'])\n",
    "\n",
    "history = model.fit(X_train, y_train, \n",
    "                    validation_data = (X_test, y_test), \n",
    "                    epochs = 15,\n",
    "                    batch_size = 25)"
   ]
  },
  {
   "cell_type": "code",
   "execution_count": 14,
   "id": "d0a083c7",
   "metadata": {},
   "outputs": [
    {
     "name": "stderr",
     "output_type": "stream",
     "text": [
      "C:\\Users\\Saipriya\\anaconda3\\lib\\site-packages\\seaborn\\_decorators.py:36: FutureWarning: Pass the following variables as keyword args: x, y. From version 0.12, the only valid positional argument will be `data`, and passing other arguments without an explicit keyword will result in an error or misinterpretation.\n",
      "  warnings.warn(\n",
      "C:\\Users\\Saipriya\\anaconda3\\lib\\site-packages\\seaborn\\_decorators.py:36: FutureWarning: Pass the following variables as keyword args: x, y. From version 0.12, the only valid positional argument will be `data`, and passing other arguments without an explicit keyword will result in an error or misinterpretation.\n",
      "  warnings.warn(\n",
      "C:\\Users\\Saipriya\\anaconda3\\lib\\site-packages\\seaborn\\_decorators.py:36: FutureWarning: Pass the following variables as keyword args: x, y. From version 0.12, the only valid positional argument will be `data`, and passing other arguments without an explicit keyword will result in an error or misinterpretation.\n",
      "  warnings.warn(\n",
      "C:\\Users\\Saipriya\\anaconda3\\lib\\site-packages\\seaborn\\_decorators.py:36: FutureWarning: Pass the following variables as keyword args: x, y. From version 0.12, the only valid positional argument will be `data`, and passing other arguments without an explicit keyword will result in an error or misinterpretation.\n",
      "  warnings.warn(\n"
     ]
    },
    {
     "data": {
      "image/png": "[encoded data removed]",
      "text/plain": [
       "<Figure size 864x288 with 2 Axes>"
      ]
     },
     "metadata": {},
     "output_type": "display_data"
    }
   ],
   "source": [
    "import seaborn as sns\n",
    "sns.set()\n",
    "fig = plt.figure(0, (12, 4))\n",
    "\n",
    "ax = plt.subplot(1, 2, 1)\n",
    "sns.lineplot(history.epoch, history.history['accuracy'], label = 'train')\n",
    "sns.lineplot(history.epoch, history.history['val_accuracy'], label = 'validation')\n",
    "plt.title('Accuracy')\n",
    "plt.tight_layout()\n",
    "\n",
    "ax = plt.subplot(1, 2, 2)\n",
    "sns.lineplot(history.epoch, history.history['loss'], label = 'train')\n",
    "sns.lineplot(history.epoch, history.history['val_loss'], label = 'validation')\n",
    "plt.title('Loss')\n",
    "plt.tight_layout()\n",
    "\n",
    "#plt.savefig('epoch_history.png')\n",
    "plt.show()"
   ]
  },
  {
   "cell_type": "code",
   "execution_count": 15,
   "id": "d8e40f6a",
   "metadata": {},
   "outputs": [
    {
     "name": "stdout",
     "output_type": "stream",
     "text": [
      "18/18 [==============================] - 77s 4s/step\n"
     ]
    }
   ],
   "source": [
    "preds = (model.predict(X_test) > 0.5).astype(\"int32\")\n",
    "y_true = np.argmax(y_test, axis=1)"
   ]
  },
  {
   "cell_type": "code",
   "execution_count": 16,
   "id": "4b3d7682",
   "metadata": {},
   "outputs": [],
   "source": [
    "preds_=[]\n",
    "for i in preds:\n",
    "    preds_.append(np.argmax(i))"
   ]
  },
  {
   "cell_type": "code",
   "execution_count": 17,
   "id": "43b962aa",
   "metadata": {},
   "outputs": [
    {
     "data": {
      "image/png": "[encoded data removed]",
      "text/plain": [
       "<Figure size 432x288 with 2 Axes>"
      ]
     },
     "metadata": {},
     "output_type": "display_data"
    }
   ],
   "source": [
    "from sklearn import metrics\n",
    "confusion_matrix = metrics.confusion_matrix(y_true, preds_)\n",
    "\n",
    "cm_display = metrics.ConfusionMatrixDisplay(confusion_matrix = confusion_matrix, display_labels = [False, True])\n",
    "\n",
    "cm_display.plot()\n",
    "plt.show() "
   ]
  },
  {
   "cell_type": "code",
   "execution_count": 18,
   "id": "c3611916",
   "metadata": {},
   "outputs": [],
   "source": [
    "from sklearn.metrics import accuracy_score,classification_report"
   ]
  },
  {
   "cell_type": "code",
   "execution_count": 19,
   "id": "4b1de81c",
   "metadata": {},
   "outputs": [
    {
     "name": "stdout",
     "output_type": "stream",
     "text": [
      "0.9410714285714286\n",
      "              precision    recall  f1-score   support\n",
      "\n",
      "           0       0.81      0.95      0.87       118\n",
      "           1       0.99      0.94      0.96       442\n",
      "\n",
      "    accuracy                           0.94       560\n",
      "   macro avg       0.90      0.94      0.92       560\n",
      "weighted avg       0.95      0.94      0.94       560\n",
      "\n"
     ]
    }
   ],
   "source": [
    "acc = accuracy_score(preds_,y_true)\n",
    "print(acc)\n",
    "print(classification_report(preds_,y_true))\n"
   ]
  },
  {
   "cell_type": "code",
   "execution_count": null,
   "id": "517a314b",
   "metadata": {},
   "outputs": [],
   "source": []
  }
 ],
 "metadata": {
  "kernelspec": {
   "display_name": "Python 3 (ipykernel)",
   "language": "python",
   "name": "python3"
  },
  "language_info": {
   "codemirror_mode": {
    "name": "ipython",
    "version": 3
   },
   "file_extension": ".py",
   "mimetype": "text/x-python",
   "name": "python",
   "nbconvert_exporter": "python",
   "pygments_lexer": "ipython3",
   "version": "3.9.12"
  }
 },
 "nbformat": 4,
 "nbformat_minor": 5
}
